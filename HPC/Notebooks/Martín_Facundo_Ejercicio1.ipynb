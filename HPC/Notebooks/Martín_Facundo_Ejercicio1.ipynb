{
  "nbformat": 4,
  "nbformat_minor": 0,
  "metadata": {
    "colab": {
      "name": "Martín_Facundo_Ejercicio1",
      "provenance": [],
      "collapsed_sections": [
        "qoYPFWcielY3",
        "bK2qeSmBbiEp",
        "Z2hVCjV5D-35"
      ]
    },
    "kernelspec": {
      "name": "python3",
      "display_name": "Python 3"
    },
    "accelerator": "GPU"
  },
  "cells": [
    {
      "cell_type": "markdown",
      "metadata": {
        "id": "qoYPFWcielY3"
      },
      "source": [
        "# **Introducción**\n",
        "\n",
        "En este cuaderno de Colab, se ejecuta una operación de entrenamiento de una neurona que compone una red neuronal de un modelo de Machine Learning\n",
        "\n",
        "El entrenamiento consiste en una capa con *n* neuronas y *n* pesos que la relacionan con una neurona de la segunda capa.\n",
        "\n",
        "El valor de la neurona de la capa 2 se determina por la funcion sigmoide de la suma pesada de las neuronas de la capa 1, como se define en la siguiente función: **σ(w1 a1 + w2 a2 + ... + wn an)**\n",
        "\n",
        "La función sigmoide devuelve un valor entre 0 y 1"
      ]
    },
    {
      "cell_type": "markdown",
      "metadata": {
        "id": "32YB71STfPcy"
      },
      "source": [
        "# **Armado del ambiente**\n",
        "No es necesario ningun proceso anterior para el armado del ambiente"
      ]
    },
    {
      "cell_type": "markdown",
      "metadata": {
        "id": "bK2qeSmBbiEp"
      },
      "source": [
        "# **Desarrollo CPU**"
      ]
    },
    {
      "cell_type": "code",
      "metadata": {
        "id": "8_uVXVJjz_Jr",
        "colab": {
          "base_uri": "https://localhost:8080/"
        },
        "outputId": "71fbfec0-8521-4058-960b-158e9a924f25"
      },
      "source": [
        "from datetime import datetime\n",
        "import numpy as np\n",
        "import math\n",
        "\n",
        "tiempo_total = datetime.now()\n",
        "np.random.seed(int(tiempo_total.timestamp()))\n",
        "\n",
        "cant_neuronas = 1000000#@param {type:\"number\"}\n",
        "\n",
        "# Definición de función que transforma el tiempo en  milisegundos \n",
        "def tiempo_en_ms(dt):\n",
        "  return (dt.days * 24 * 60 * 60 + dt.seconds) * 1000 + dt.microseconds / 1000.0\n",
        "\n",
        "#los valores de las neuronas deben ser entre 0 y 1, por eso les resto la parte entera\n",
        "def reduce_weights(x):\n",
        "  return x - int(x)\n",
        "\n",
        "#funcion sigmoide, devuelve un valor real entre 0 y 1\n",
        "def sigmoid(x):\n",
        "    if x > 10000:\n",
        "      return 1\n",
        "    elif x < -10000:\n",
        "      return 0\n",
        "    else:\n",
        "      return 1 / (1 + math.exp(-x))\n",
        "\n",
        "# los valores de las neuronas deben estar entre 0 y 1\n",
        "vec_neuronas = np.random.rand(cant_neuronas)\n",
        "vec_neuronas = vec_neuronas.astype(np.float32())\n",
        "vec_neuronas = np.vectorize(reduce_weights)(vec_neuronas)\n",
        "\n",
        "# los valores de los pesos pueden tomar cualquier valor real\n",
        "vec_pesos = np.random.randn(cant_neuronas)\n",
        "vec_pesos = vec_pesos.astype(np.float32())\n",
        "\n",
        "# # valores dummy para corroborar con el ejercicio en cpu\n",
        "# vec_neuronas = np.array([0.66, 0.8,  0.24, 0.01, 0.56, 0.47, 0.29, 0.94, 0.86, 0.9 ])\n",
        "# vec_pesos = np.array([ 0.81,  1.41, -1.38,  0.63, -0.36, 0.2,  -0.87, -0.31, -0.18,  0.43])\n",
        "\n",
        "tiempo_ciclo = datetime.now()\n",
        "\n",
        "acum = 0\n",
        "for i in range(cant_neuronas):\n",
        "  acum += vec_neuronas[i] * vec_pesos[i]\n",
        "\n",
        "valor_neurona_layer_2 = sigmoid(acum)\n",
        "\n",
        "tiempo_ciclo = datetime.now() - tiempo_ciclo\n",
        "tiempo_total = datetime.now() - tiempo_total\n",
        "\n",
        "print('Valor de la neurona: {:.6f}'.format(valor_neurona_layer_2))\n",
        "print('Tiempo ciclo: {:.2f} ms'.format(tiempo_en_ms(tiempo_ciclo)))\n",
        "print('Tiempo total: {:.2f} ms'.format(tiempo_en_ms(tiempo_total)))"
      ],
      "execution_count": 191,
      "outputs": [
        {
          "output_type": "stream",
          "text": [
            "Valor de la neurona: 0.000000\n",
            "Tiempo ciclo: 554.76 ms\n",
            "Tiempo total: 859.73 ms\n"
          ],
          "name": "stdout"
        }
      ]
    },
    {
      "cell_type": "markdown",
      "metadata": {
        "id": "Z2hVCjV5D-35"
      },
      "source": [
        "# **Desarrollo GPU**"
      ]
    },
    {
      "cell_type": "code",
      "metadata": {
        "id": "sF9uuKomGchg"
      },
      "source": [
        "!pip install pycuda"
      ],
      "execution_count": null,
      "outputs": []
    },
    {
      "cell_type": "code",
      "metadata": {
        "colab": {
          "base_uri": "https://localhost:8080/"
        },
        "id": "o7szcXlpEE97",
        "outputId": "a5c01fce-aa99-4cd2-ba9f-7f9535d4dcf9"
      },
      "source": [
        "from datetime import datetime\n",
        "import numpy as np\n",
        "import math\n",
        "\n",
        "import pycuda.driver as cuda\n",
        "import pycuda.autoinit\n",
        "from pycuda.compiler import SourceModule\n",
        "\n",
        "tiempo_total = datetime.now()\n",
        "np.random.seed(int(tiempo_total.timestamp()))\n",
        "\n",
        "cant_neuronas = 1000000#@param {type:\"number\"}\n",
        "\n",
        "# Definición de función que transforma el tiempo en  milisegundos \n",
        "def tiempo_en_ms(dt):\n",
        "  # return 5\n",
        "  return (dt.days * 24 * 60 * 60 + dt.seconds) * 1000 + dt.microseconds / 1000.0\n",
        "\n",
        "#los valores de las neuronas deben ser entre 0 y 1, por eso les resto la parte entera\n",
        "def reduce_weights(x):\n",
        "  return x - int(x)\n",
        "\n",
        "#funcion sigmoide, devuelve valor entre 0 y 1\n",
        "def sigmoid(x):\n",
        "    if x > 10000:\n",
        "      return 1\n",
        "    elif x < -10000:\n",
        "      return 0\n",
        "    else:\n",
        "      return 1 / (1 + math.exp(-x))\n",
        "\n",
        "# los valores de las neuronas deben estar entre 0 y 1\n",
        "vec_neuronas = np.random.rand(cant_neuronas)\n",
        "vec_neuronas = np.vectorize(reduce_weights)(vec_neuronas)\n",
        "\n",
        "# los valores de los pesos pueden tomar cualquier valor real\n",
        "vec_pesos = np.random.randn(cant_neuronas)\n",
        "\n",
        "# # valores dummy para corroborar con el ejercicio en cpu\n",
        "# vec_neuronas = np.array([0.66, 0.8,  0.24, 0.01, 0.56, 0.47, 0.29, 0.94, 0.86, 0.9 ])\n",
        "# vec_pesos = np.array([ 0.81,  1.41, -1.38,  0.63, -0.36, 0.2,  -0.87, -0.31, -0.18,  0.43])\n",
        "\n",
        "# vector auxiliar para guardar los valores\n",
        "vec_aux = np.empty_like(vec_neuronas)\n",
        "vec_aux = vec_aux.astype(np.float64())\n",
        "\n",
        "#reservo la memoria para los vectores\n",
        "vec_neuronas_gpu = cuda.mem_alloc(vec_neuronas.nbytes)\n",
        "vec_pesos_gpu = cuda.mem_alloc(vec_pesos.nbytes)\n",
        "vec_aux_gpu = cuda.mem_alloc(vec_aux.nbytes)\n",
        "\n",
        "#copio la memoria a la GPU\n",
        "cuda.memcpy_htod(vec_neuronas_gpu, vec_neuronas)\n",
        "cuda.memcpy_htod(vec_pesos_gpu, vec_pesos)\n",
        "cuda.memcpy_htod(vec_aux_gpu, vec_aux)\n",
        "\n",
        "kernel_acum = module.get_function(\"kernel_acum\")\n",
        "\n",
        "dim_hilo = 256\n",
        "dim_bloque = np.int( (cant_neuronas+dim_hilo_x-1) / dim_hilo_x )\n",
        "\n",
        "tiempo_ciclo = datetime.now()\n",
        "\n",
        "module = SourceModule(\"\"\"\n",
        "__global__ void kernel_acum(int cant_neuronas, double* vec_neuronas,\n",
        "double* vec_pesos, double* aux)\n",
        "{\n",
        "  //Coordenadas de los threads\n",
        "  int idx = threadIdx.x + blockIdx.x*blockDim.x;\n",
        "\n",
        "  //Verifico que esten dentro de los valores\n",
        "  if(idx < cant_neuronas)\n",
        "  {\n",
        "    aux[idx] = vec_neuronas[idx] * vec_pesos[idx];\n",
        "  }\n",
        "}\n",
        "\n",
        "\"\"\")\n",
        "\n",
        "\n",
        "kernel_acum(np.int32(cant_neuronas), vec_neuronas_gpu, vec_pesos_gpu, vec_aux_gpu,\n",
        "            block=(dim_hilo, 1, 1), grid=(dim_bloque, 1, 1))\n",
        "\n",
        "cuda.memcpy_dtoh(vec_aux, vec_aux_gpu)\n",
        "cuda.memcpy_dtoh(vec_neuronas, vec_neuronas_gpu)\n",
        "cuda.memcpy_dtoh(vec_pesos, vec_pesos_gpu)\n",
        "\n",
        "# uso un vector auxiliar para la suma porque no encontre forma de usar un acumulador con memoria compartida dentro de CUDA\n",
        "acum = np.sum(vec_aux) \n",
        "\n",
        "tiempo_ciclo = datetime.now() - tiempo_ciclo\n",
        "tiempo_total = datetime.now() - tiempo_total\n",
        "\n",
        "valor_neurona_layer_2 = sigmoid(acum)\n",
        "\n",
        "print('Valor de la neurona: {:.6f}'.format(valor_neurona_layer_2))\n",
        "print('Tiempo ciclo: {:.2f} ms'.format(tiempo_en_ms(tiempo_ciclo)))\n",
        "print('Tiempo total: {:.2f} ms'.format(tiempo_en_ms(tiempo_total)))\n"
      ],
      "execution_count": 190,
      "outputs": [
        {
          "output_type": "stream",
          "text": [
            "Valor de la neurona: 1.000000\n",
            "Tiempo ciclo: 6.55 ms\n",
            "Tiempo total: 318.26 ms\n"
          ],
          "name": "stdout"
        }
      ]
    },
    {
      "cell_type": "markdown",
      "metadata": {
        "id": "Z6YqIxtuUMLW"
      },
      "source": [
        "# **Bibliografía**\n",
        "\n",
        "\"Que es una red neuronal? | Aprendizaje Profundo, capítulo 1\" https://www.youtube.com/watch?v=aircAruvnKk&ab_channel=3Blue1Brown"
      ]
    }
  ]
}